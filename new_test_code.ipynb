{
 "cells": [
  {
   "cell_type": "markdown",
   "id": "502cc929-ce30-4f43-a3f1-52af49b01759",
   "metadata": {},
   "source": [
    "# Basic Information"
   ]
  },
  {
   "cell_type": "code",
   "execution_count": 1,
   "id": "5f81f113-27e0-45fb-9757-77d549015f97",
   "metadata": {},
   "outputs": [
    {
     "name": "stdout",
     "output_type": "stream",
     "text": [
      "Hi everyone, I am Zunera. I am enrolled in ENGO 645\n"
     ]
    }
   ],
   "source": [
    "print(\"Hi everyone, I am Zunera. I am enrolled in ENGO 645\")"
   ]
  }
 ],
 "metadata": {
  "kernelspec": {
   "display_name": "Python 3 (ipykernel)",
   "language": "python",
   "name": "python3"
  },
  "language_info": {
   "codemirror_mode": {
    "name": "ipython",
    "version": 3
   },
   "file_extension": ".py",
   "mimetype": "text/x-python",
   "name": "python",
   "nbconvert_exporter": "python",
   "pygments_lexer": "ipython3",
   "version": "3.11.5"
  }
 },
 "nbformat": 4,
 "nbformat_minor": 5
}
